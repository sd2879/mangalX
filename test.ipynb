{
 "cells": [
  {
   "cell_type": "code",
   "execution_count": null,
   "metadata": {
    "vscode": {
     "languageId": "plaintext"
    }
   },
   "outputs": [],
   "source": [
    "\n",
    "from serpapi import GoogleSearch\n",
    "import os\n",
    "from dotenv import load_dotenv\n",
    "\n",
    "load_dotenv()\n",
    "params = {\n",
    "    \"engine\": \"google\",\n",
    "    \"q\": \"test\",\n",
    "    \"api_key\": os.getenv(\"SERPAPI_API_KEY\")\n",
    "}\n",
    "search = GoogleSearch(params)\n",
    "print(search.get_dict().get(\"organic_results\", []))"
   ]
  }
 ],
 "metadata": {
  "language_info": {
   "name": "python"
  }
 },
 "nbformat": 4,
 "nbformat_minor": 2
}
